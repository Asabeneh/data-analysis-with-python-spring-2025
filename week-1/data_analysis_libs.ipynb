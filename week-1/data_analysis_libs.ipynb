{
 "cells": [
  {
   "cell_type": "markdown",
   "id": "c487f1f8-73cb-4b47-9cbc-d17660128fa3",
   "metadata": {},
   "source": [
    "# Welcome to Data Analysis with Python\n",
    "- NumPy\n",
    "- Pandas\n",
    "- Matplotlib\n",
    "- SciPy\n",
    "- Textblob\n",
    "- Scikit\n",
    "  "
   ]
  },
  {
   "cell_type": "code",
   "execution_count": 2,
   "id": "ec830567-4e61-4927-acc1-7a3010931589",
   "metadata": {},
   "outputs": [],
   "source": [
    "import numpy as np\n",
    "import pandas as pd\n",
    "import matplotlib.pyplot as plt\n",
    "import re\n",
    "import seaborn as sns\n",
    "import requests"
   ]
  },
  {
   "cell_type": "code",
   "execution_count": 3,
   "id": "e3109379-b15d-47b8-b8fb-49495ec8c5a6",
   "metadata": {},
   "outputs": [
    {
     "data": {
      "image/png": "[encoded data removed]",
      "text/plain": [
       "<Figure size 640x480 with 1 Axes>"
      ]
     },
     "metadata": {},
     "output_type": "display_data"
    }
   ],
   "source": [
    "url = 'https://api.thecatapi.com/v1/breeds'\n",
    "response = requests.get(url)\n",
    "data = response.json()\n",
    "weights = []\n",
    "for cat in data:\n",
    "  lowest, highest = cat['weight']['metric'].split(' - ')\n",
    "  average = (int(lowest) + int(highest)) / 2\n",
    "  weights.append(average)\n",
    "\n",
    "# print(weights)\n",
    "\n",
    "plt.bar(range(len(weights)), weights)\n",
    "plt.show()"
   ]
  },
  {
   "cell_type": "code",
   "execution_count": 4,
   "id": "88147c9e-ac14-4ba6-b488-eb5f4480af33",
   "metadata": {},
   "outputs": [
    {
     "data": {
      "text/html": [
       "<div>\n",
       "<style scoped>\n",
       "    .dataframe tbody tr th:only-of-type {\n",
       "        vertical-align: middle;\n",
       "    }\n",
       "\n",
       "    .dataframe tbody tr th {\n",
       "        vertical-align: top;\n",
       "    }\n",
       "\n",
       "    .dataframe thead th {\n",
       "        text-align: right;\n",
       "    }\n",
       "</style>\n",
       "<table border=\"1\" class=\"dataframe\">\n",
       "  <thead>\n",
       "    <tr style=\"text-align: right;\">\n",
       "      <th></th>\n",
       "      <th>weight</th>\n",
       "      <th>id</th>\n",
       "      <th>name</th>\n",
       "      <th>cfa_url</th>\n",
       "      <th>vetstreet_url</th>\n",
       "      <th>vcahospitals_url</th>\n",
       "      <th>temperament</th>\n",
       "      <th>origin</th>\n",
       "      <th>country_codes</th>\n",
       "      <th>country_code</th>\n",
       "      <th>...</th>\n",
       "      <th>natural</th>\n",
       "      <th>rare</th>\n",
       "      <th>rex</th>\n",
       "      <th>suppressed_tail</th>\n",
       "      <th>short_legs</th>\n",
       "      <th>wikipedia_url</th>\n",
       "      <th>hypoallergenic</th>\n",
       "      <th>reference_image_id</th>\n",
       "      <th>cat_friendly</th>\n",
       "      <th>bidability</th>\n",
       "    </tr>\n",
       "  </thead>\n",
       "  <tbody>\n",
       "    <tr>\n",
       "      <th>0</th>\n",
       "      <td>{'imperial': '7  -  10', 'metric': '3 - 5'}</td>\n",
       "      <td>abys</td>\n",
       "      <td>Abyssinian</td>\n",
       "      <td>http://cfa.org/Breeds/BreedsAB/Abyssinian.aspx</td>\n",
       "      <td>http://www.vetstreet.com/cats/abyssinian</td>\n",
       "      <td>https://vcahospitals.com/know-your-pet/cat-bre...</td>\n",
       "      <td>Active, Energetic, Independent, Intelligent, G...</td>\n",
       "      <td>Egypt</td>\n",
       "      <td>EG</td>\n",
       "      <td>EG</td>\n",
       "      <td>...</td>\n",
       "      <td>1</td>\n",
       "      <td>0</td>\n",
       "      <td>0</td>\n",
       "      <td>0</td>\n",
       "      <td>0</td>\n",
       "      <td>https://en.wikipedia.org/wiki/Abyssinian_(cat)</td>\n",
       "      <td>0</td>\n",
       "      <td>0XYvRd7oD</td>\n",
       "      <td>NaN</td>\n",
       "      <td>NaN</td>\n",
       "    </tr>\n",
       "    <tr>\n",
       "      <th>1</th>\n",
       "      <td>{'imperial': '7 - 10', 'metric': '3 - 5'}</td>\n",
       "      <td>aege</td>\n",
       "      <td>Aegean</td>\n",
       "      <td>NaN</td>\n",
       "      <td>http://www.vetstreet.com/cats/aegean-cat</td>\n",
       "      <td>NaN</td>\n",
       "      <td>Affectionate, Social, Intelligent, Playful, Ac...</td>\n",
       "      <td>Greece</td>\n",
       "      <td>GR</td>\n",
       "      <td>GR</td>\n",
       "      <td>...</td>\n",
       "      <td>0</td>\n",
       "      <td>0</td>\n",
       "      <td>0</td>\n",
       "      <td>0</td>\n",
       "      <td>0</td>\n",
       "      <td>https://en.wikipedia.org/wiki/Aegean_cat</td>\n",
       "      <td>0</td>\n",
       "      <td>ozEvzdVM-</td>\n",
       "      <td>NaN</td>\n",
       "      <td>NaN</td>\n",
       "    </tr>\n",
       "    <tr>\n",
       "      <th>2</th>\n",
       "      <td>{'imperial': '7 - 16', 'metric': '3 - 7'}</td>\n",
       "      <td>abob</td>\n",
       "      <td>American Bobtail</td>\n",
       "      <td>http://cfa.org/Breeds/BreedsAB/AmericanBobtail...</td>\n",
       "      <td>http://www.vetstreet.com/cats/american-bobtail</td>\n",
       "      <td>https://vcahospitals.com/know-your-pet/cat-bre...</td>\n",
       "      <td>Intelligent, Interactive, Lively, Playful, Sen...</td>\n",
       "      <td>United States</td>\n",
       "      <td>US</td>\n",
       "      <td>US</td>\n",
       "      <td>...</td>\n",
       "      <td>0</td>\n",
       "      <td>0</td>\n",
       "      <td>0</td>\n",
       "      <td>1</td>\n",
       "      <td>0</td>\n",
       "      <td>https://en.wikipedia.org/wiki/American_Bobtail</td>\n",
       "      <td>0</td>\n",
       "      <td>hBXicehMA</td>\n",
       "      <td>NaN</td>\n",
       "      <td>NaN</td>\n",
       "    </tr>\n",
       "    <tr>\n",
       "      <th>3</th>\n",
       "      <td>{'imperial': '5 - 10', 'metric': '2 - 5'}</td>\n",
       "      <td>acur</td>\n",
       "      <td>American Curl</td>\n",
       "      <td>http://cfa.org/Breeds/BreedsAB/AmericanCurl.aspx</td>\n",
       "      <td>http://www.vetstreet.com/cats/american-curl</td>\n",
       "      <td>https://vcahospitals.com/know-your-pet/cat-bre...</td>\n",
       "      <td>Affectionate, Curious, Intelligent, Interactiv...</td>\n",
       "      <td>United States</td>\n",
       "      <td>US</td>\n",
       "      <td>US</td>\n",
       "      <td>...</td>\n",
       "      <td>0</td>\n",
       "      <td>0</td>\n",
       "      <td>0</td>\n",
       "      <td>0</td>\n",
       "      <td>0</td>\n",
       "      <td>https://en.wikipedia.org/wiki/American_Curl</td>\n",
       "      <td>0</td>\n",
       "      <td>xnsqonbjW</td>\n",
       "      <td>NaN</td>\n",
       "      <td>NaN</td>\n",
       "    </tr>\n",
       "    <tr>\n",
       "      <th>4</th>\n",
       "      <td>{'imperial': '8 - 15', 'metric': '4 - 7'}</td>\n",
       "      <td>asho</td>\n",
       "      <td>American Shorthair</td>\n",
       "      <td>http://cfa.org/Breeds/BreedsAB/AmericanShortha...</td>\n",
       "      <td>http://www.vetstreet.com/cats/american-shorthair</td>\n",
       "      <td>https://vcahospitals.com/know-your-pet/cat-bre...</td>\n",
       "      <td>Active, Curious, Easy Going, Playful, Calm</td>\n",
       "      <td>United States</td>\n",
       "      <td>US</td>\n",
       "      <td>US</td>\n",
       "      <td>...</td>\n",
       "      <td>1</td>\n",
       "      <td>0</td>\n",
       "      <td>0</td>\n",
       "      <td>0</td>\n",
       "      <td>0</td>\n",
       "      <td>https://en.wikipedia.org/wiki/American_Shorthair</td>\n",
       "      <td>0</td>\n",
       "      <td>JFPROfGtQ</td>\n",
       "      <td>NaN</td>\n",
       "      <td>NaN</td>\n",
       "    </tr>\n",
       "  </tbody>\n",
       "</table>\n",
       "<p>5 rows × 39 columns</p>\n",
       "</div>"
      ],
      "text/plain": [
       "                                        weight    id                name  \\\n",
       "0  {'imperial': '7  -  10', 'metric': '3 - 5'}  abys          Abyssinian   \n",
       "1    {'imperial': '7 - 10', 'metric': '3 - 5'}  aege              Aegean   \n",
       "2    {'imperial': '7 - 16', 'metric': '3 - 7'}  abob    American Bobtail   \n",
       "3    {'imperial': '5 - 10', 'metric': '2 - 5'}  acur       American Curl   \n",
       "4    {'imperial': '8 - 15', 'metric': '4 - 7'}  asho  American Shorthair   \n",
       "\n",
       "                                             cfa_url  \\\n",
       "0     http://cfa.org/Breeds/BreedsAB/Abyssinian.aspx   \n",
       "1                                                NaN   \n",
       "2  http://cfa.org/Breeds/BreedsAB/AmericanBobtail...   \n",
       "3   http://cfa.org/Breeds/BreedsAB/AmericanCurl.aspx   \n",
       "4  http://cfa.org/Breeds/BreedsAB/AmericanShortha...   \n",
       "\n",
       "                                      vetstreet_url  \\\n",
       "0          http://www.vetstreet.com/cats/abyssinian   \n",
       "1          http://www.vetstreet.com/cats/aegean-cat   \n",
       "2    http://www.vetstreet.com/cats/american-bobtail   \n",
       "3       http://www.vetstreet.com/cats/american-curl   \n",
       "4  http://www.vetstreet.com/cats/american-shorthair   \n",
       "\n",
       "                                    vcahospitals_url  \\\n",
       "0  https://vcahospitals.com/know-your-pet/cat-bre...   \n",
       "1                                                NaN   \n",
       "2  https://vcahospitals.com/know-your-pet/cat-bre...   \n",
       "3  https://vcahospitals.com/know-your-pet/cat-bre...   \n",
       "4  https://vcahospitals.com/know-your-pet/cat-bre...   \n",
       "\n",
       "                                         temperament         origin  \\\n",
       "0  Active, Energetic, Independent, Intelligent, G...          Egypt   \n",
       "1  Affectionate, Social, Intelligent, Playful, Ac...         Greece   \n",
       "2  Intelligent, Interactive, Lively, Playful, Sen...  United States   \n",
       "3  Affectionate, Curious, Intelligent, Interactiv...  United States   \n",
       "4         Active, Curious, Easy Going, Playful, Calm  United States   \n",
       "\n",
       "  country_codes country_code  ... natural rare  rex  suppressed_tail  \\\n",
       "0            EG           EG  ...       1    0    0                0   \n",
       "1            GR           GR  ...       0    0    0                0   \n",
       "2            US           US  ...       0    0    0                1   \n",
       "3            US           US  ...       0    0    0                0   \n",
       "4            US           US  ...       1    0    0                0   \n",
       "\n",
       "  short_legs                                     wikipedia_url  \\\n",
       "0          0    https://en.wikipedia.org/wiki/Abyssinian_(cat)   \n",
       "1          0          https://en.wikipedia.org/wiki/Aegean_cat   \n",
       "2          0    https://en.wikipedia.org/wiki/American_Bobtail   \n",
       "3          0       https://en.wikipedia.org/wiki/American_Curl   \n",
       "4          0  https://en.wikipedia.org/wiki/American_Shorthair   \n",
       "\n",
       "   hypoallergenic  reference_image_id  cat_friendly  bidability  \n",
       "0               0           0XYvRd7oD           NaN         NaN  \n",
       "1               0           ozEvzdVM-           NaN         NaN  \n",
       "2               0           hBXicehMA           NaN         NaN  \n",
       "3               0           xnsqonbjW           NaN         NaN  \n",
       "4               0           JFPROfGtQ           NaN         NaN  \n",
       "\n",
       "[5 rows x 39 columns]"
      ]
     },
     "execution_count": 4,
     "metadata": {},
     "output_type": "execute_result"
    }
   ],
   "source": [
    "df = pd.DataFrame(data)\n",
    "df.head()"
   ]
  },
  {
   "cell_type": "code",
   "execution_count": 5,
   "id": "82353a41-2932-4f14-8e7d-f3e96bcb9669",
   "metadata": {},
   "outputs": [
    {
     "data": {
      "text/plain": [
       "origin\n",
       "United States           28\n",
       "United Kingdom           8\n",
       "Russia                   4\n",
       "Thailand                 4\n",
       "Canada                   3\n",
       "Egypt                    3\n",
       "France                   2\n",
       "Burma                    2\n",
       "Turkey                   2\n",
       "Australia                1\n",
       "Cyprus                   1\n",
       "Greece                   1\n",
       "China                    1\n",
       "Japan                    1\n",
       "United Arab Emirates     1\n",
       "Isle of Man              1\n",
       "Norway                   1\n",
       "Iran (Persia)            1\n",
       "Singapore                1\n",
       "Somalia                  1\n",
       "Name: count, dtype: int64"
      ]
     },
     "execution_count": 5,
     "metadata": {},
     "output_type": "execute_result"
    }
   ],
   "source": [
    "df['origin'].value_counts()"
   ]
  },
  {
   "cell_type": "code",
   "execution_count": 6,
   "id": "9c2eaab7-3726-4887-a356-b7d98d6b935c",
   "metadata": {},
   "outputs": [
    {
     "name": "stdout",
     "output_type": "stream",
     "text": [
      "['United States', 'United Kingdom', 'Russia', 'Thailand', 'Canada', 'Egypt', 'France', 'Burma', 'Turkey', 'Australia', 'Cyprus', 'Greece', 'China', 'Japan', 'United Arab Emirates', 'Isle of Man', 'Norway', 'Iran (Persia)', 'Singapore', 'Somalia']\n"
     ]
    }
   ],
   "source": [
    "countries = list(df['origin'].value_counts().index)\n",
    "print(countries)"
   ]
  },
  {
   "cell_type": "code",
   "execution_count": 8,
   "id": "5606c091-c4c8-4221-af36-a8781c71e0c6",
   "metadata": {},
   "outputs": [],
   "source": [
    "values = list(df['origin'].value_counts().values)"
   ]
  },
  {
   "cell_type": "code",
   "execution_count": 10,
   "id": "e510755f-bd44-4e8d-8b12-7c3bba8d0b6a",
   "metadata": {},
   "outputs": [
    {
     "data": {
      "image/png": "[encoded data removed]",
      "text/plain": [
       "<Figure size 640x480 with 1 Axes>"
      ]
     },
     "metadata": {},
     "output_type": "display_data"
    }
   ],
   "source": [
    "plt.bar(countries, values)\n",
    "plt.xticks(rotation='vertical')\n",
    "plt.savefig('cats_bargraph.png')\n",
    "plt.show()"
   ]
  },
  {
   "cell_type": "code",
   "execution_count": null,
   "id": "81f70f7f-876b-4914-8d85-4ba62c1b92a0",
   "metadata": {},
   "outputs": [],
   "source": []
  }
 ],
 "metadata": {
  "kernelspec": {
   "display_name": "Python 3 (ipykernel)",
   "language": "python",
   "name": "python3"
  },
  "language_info": {
   "codemirror_mode": {
    "name": "ipython",
    "version": 3
   },
   "file_extension": ".py",
   "mimetype": "text/x-python",
   "name": "python",
   "nbconvert_exporter": "python",
   "pygments_lexer": "ipython3",
   "version": "3.12.7"
  }
 },
 "nbformat": 4,
 "nbformat_minor": 5
}
