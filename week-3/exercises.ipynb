{
 "cells": [
  {
   "cell_type": "code",
   "execution_count": 2,
   "id": "be5e8df0-6edd-462e-ad62-7295dfc06956",
   "metadata": {},
   "outputs": [
    {
     "name": "stdout",
     "output_type": "stream",
     "text": [
      "{'adaptability': 5,\n",
      " 'affection_level': 5,\n",
      " 'alt_names': '',\n",
      " 'cfa_url': 'http://cfa.org/Breeds/BreedsAB/Abyssinian.aspx',\n",
      " 'child_friendly': 3,\n",
      " 'country_code': 'EG',\n",
      " 'country_codes': 'EG',\n",
      " 'description': 'The Abyssinian is easy to care for, and a joy to have in your '\n",
      "                'home. They’re affectionate cats and love both people and '\n",
      "                'other animals.',\n",
      " 'dog_friendly': 4,\n",
      " 'energy_level': 5,\n",
      " 'experimental': 0,\n",
      " 'grooming': 1,\n",
      " 'hairless': 0,\n",
      " 'health_issues': 2,\n",
      " 'hypoallergenic': 0,\n",
      " 'id': 'abys',\n",
      " 'indoor': 0,\n",
      " 'intelligence': 5,\n",
      " 'lap': 1,\n",
      " 'life_span': '14 - 15',\n",
      " 'name': 'Abyssinian',\n",
      " 'natural': 1,\n",
      " 'origin': 'Egypt',\n",
      " 'rare': 0,\n",
      " 'reference_image_id': '0XYvRd7oD',\n",
      " 'rex': 0,\n",
      " 'shedding_level': 2,\n",
      " 'short_legs': 0,\n",
      " 'social_needs': 5,\n",
      " 'stranger_friendly': 5,\n",
      " 'suppressed_tail': 0,\n",
      " 'temperament': 'Active, Energetic, Independent, Intelligent, Gentle',\n",
      " 'vcahospitals_url': 'https://vcahospitals.com/know-your-pet/cat-breeds/abyssinian',\n",
      " 'vetstreet_url': 'http://www.vetstreet.com/cats/abyssinian',\n",
      " 'vocalisation': 1,\n",
      " 'weight': {'imperial': '7  -  10', 'metric': '3 - 5'},\n",
      " 'wikipedia_url': 'https://en.wikipedia.org/wiki/Abyssinian_(cat)'}\n"
     ]
    },
    {
     "data": {
      "text/html": [
       "<div>\n",
       "<style scoped>\n",
       "    .dataframe tbody tr th:only-of-type {\n",
       "        vertical-align: middle;\n",
       "    }\n",
       "\n",
       "    .dataframe tbody tr th {\n",
       "        vertical-align: top;\n",
       "    }\n",
       "\n",
       "    .dataframe thead th {\n",
       "        text-align: right;\n",
       "    }\n",
       "</style>\n",
       "<table border=\"1\" class=\"dataframe\">\n",
       "  <thead>\n",
       "    <tr style=\"text-align: right;\">\n",
       "      <th></th>\n",
       "      <th>weight</th>\n",
       "      <th>id</th>\n",
       "      <th>name</th>\n",
       "      <th>cfa_url</th>\n",
       "      <th>vetstreet_url</th>\n",
       "      <th>vcahospitals_url</th>\n",
       "      <th>temperament</th>\n",
       "      <th>origin</th>\n",
       "      <th>country_codes</th>\n",
       "      <th>country_code</th>\n",
       "      <th>...</th>\n",
       "      <th>natural</th>\n",
       "      <th>rare</th>\n",
       "      <th>rex</th>\n",
       "      <th>suppressed_tail</th>\n",
       "      <th>short_legs</th>\n",
       "      <th>wikipedia_url</th>\n",
       "      <th>hypoallergenic</th>\n",
       "      <th>reference_image_id</th>\n",
       "      <th>cat_friendly</th>\n",
       "      <th>bidability</th>\n",
       "    </tr>\n",
       "  </thead>\n",
       "  <tbody>\n",
       "    <tr>\n",
       "      <th>0</th>\n",
       "      <td>{'imperial': '7  -  10', 'metric': '3 - 5'}</td>\n",
       "      <td>abys</td>\n",
       "      <td>Abyssinian</td>\n",
       "      <td>http://cfa.org/Breeds/BreedsAB/Abyssinian.aspx</td>\n",
       "      <td>http://www.vetstreet.com/cats/abyssinian</td>\n",
       "      <td>https://vcahospitals.com/know-your-pet/cat-bre...</td>\n",
       "      <td>Active, Energetic, Independent, Intelligent, G...</td>\n",
       "      <td>Egypt</td>\n",
       "      <td>EG</td>\n",
       "      <td>EG</td>\n",
       "      <td>...</td>\n",
       "      <td>1</td>\n",
       "      <td>0</td>\n",
       "      <td>0</td>\n",
       "      <td>0</td>\n",
       "      <td>0</td>\n",
       "      <td>https://en.wikipedia.org/wiki/Abyssinian_(cat)</td>\n",
       "      <td>0</td>\n",
       "      <td>0XYvRd7oD</td>\n",
       "      <td>NaN</td>\n",
       "      <td>NaN</td>\n",
       "    </tr>\n",
       "    <tr>\n",
       "      <th>1</th>\n",
       "      <td>{'imperial': '7 - 10', 'metric': '3 - 5'}</td>\n",
       "      <td>aege</td>\n",
       "      <td>Aegean</td>\n",
       "      <td>NaN</td>\n",
       "      <td>http://www.vetstreet.com/cats/aegean-cat</td>\n",
       "      <td>NaN</td>\n",
       "      <td>Affectionate, Social, Intelligent, Playful, Ac...</td>\n",
       "      <td>Greece</td>\n",
       "      <td>GR</td>\n",
       "      <td>GR</td>\n",
       "      <td>...</td>\n",
       "      <td>0</td>\n",
       "      <td>0</td>\n",
       "      <td>0</td>\n",
       "      <td>0</td>\n",
       "      <td>0</td>\n",
       "      <td>https://en.wikipedia.org/wiki/Aegean_cat</td>\n",
       "      <td>0</td>\n",
       "      <td>ozEvzdVM-</td>\n",
       "      <td>NaN</td>\n",
       "      <td>NaN</td>\n",
       "    </tr>\n",
       "    <tr>\n",
       "      <th>2</th>\n",
       "      <td>{'imperial': '7 - 16', 'metric': '3 - 7'}</td>\n",
       "      <td>abob</td>\n",
       "      <td>American Bobtail</td>\n",
       "      <td>http://cfa.org/Breeds/BreedsAB/AmericanBobtail...</td>\n",
       "      <td>http://www.vetstreet.com/cats/american-bobtail</td>\n",
       "      <td>https://vcahospitals.com/know-your-pet/cat-bre...</td>\n",
       "      <td>Intelligent, Interactive, Lively, Playful, Sen...</td>\n",
       "      <td>United States</td>\n",
       "      <td>US</td>\n",
       "      <td>US</td>\n",
       "      <td>...</td>\n",
       "      <td>0</td>\n",
       "      <td>0</td>\n",
       "      <td>0</td>\n",
       "      <td>1</td>\n",
       "      <td>0</td>\n",
       "      <td>https://en.wikipedia.org/wiki/American_Bobtail</td>\n",
       "      <td>0</td>\n",
       "      <td>hBXicehMA</td>\n",
       "      <td>NaN</td>\n",
       "      <td>NaN</td>\n",
       "    </tr>\n",
       "    <tr>\n",
       "      <th>3</th>\n",
       "      <td>{'imperial': '5 - 10', 'metric': '2 - 5'}</td>\n",
       "      <td>acur</td>\n",
       "      <td>American Curl</td>\n",
       "      <td>http://cfa.org/Breeds/BreedsAB/AmericanCurl.aspx</td>\n",
       "      <td>http://www.vetstreet.com/cats/american-curl</td>\n",
       "      <td>https://vcahospitals.com/know-your-pet/cat-bre...</td>\n",
       "      <td>Affectionate, Curious, Intelligent, Interactiv...</td>\n",
       "      <td>United States</td>\n",
       "      <td>US</td>\n",
       "      <td>US</td>\n",
       "      <td>...</td>\n",
       "      <td>0</td>\n",
       "      <td>0</td>\n",
       "      <td>0</td>\n",
       "      <td>0</td>\n",
       "      <td>0</td>\n",
       "      <td>https://en.wikipedia.org/wiki/American_Curl</td>\n",
       "      <td>0</td>\n",
       "      <td>xnsqonbjW</td>\n",
       "      <td>NaN</td>\n",
       "      <td>NaN</td>\n",
       "    </tr>\n",
       "    <tr>\n",
       "      <th>4</th>\n",
       "      <td>{'imperial': '8 - 15', 'metric': '4 - 7'}</td>\n",
       "      <td>asho</td>\n",
       "      <td>American Shorthair</td>\n",
       "      <td>http://cfa.org/Breeds/BreedsAB/AmericanShortha...</td>\n",
       "      <td>http://www.vetstreet.com/cats/american-shorthair</td>\n",
       "      <td>https://vcahospitals.com/know-your-pet/cat-bre...</td>\n",
       "      <td>Active, Curious, Easy Going, Playful, Calm</td>\n",
       "      <td>United States</td>\n",
       "      <td>US</td>\n",
       "      <td>US</td>\n",
       "      <td>...</td>\n",
       "      <td>1</td>\n",
       "      <td>0</td>\n",
       "      <td>0</td>\n",
       "      <td>0</td>\n",
       "      <td>0</td>\n",
       "      <td>https://en.wikipedia.org/wiki/American_Shorthair</td>\n",
       "      <td>0</td>\n",
       "      <td>JFPROfGtQ</td>\n",
       "      <td>NaN</td>\n",
       "      <td>NaN</td>\n",
       "    </tr>\n",
       "  </tbody>\n",
       "</table>\n",
       "<p>5 rows × 39 columns</p>\n",
       "</div>"
      ],
      "text/plain": [
       "                                        weight    id                name  \\\n",
       "0  {'imperial': '7  -  10', 'metric': '3 - 5'}  abys          Abyssinian   \n",
       "1    {'imperial': '7 - 10', 'metric': '3 - 5'}  aege              Aegean   \n",
       "2    {'imperial': '7 - 16', 'metric': '3 - 7'}  abob    American Bobtail   \n",
       "3    {'imperial': '5 - 10', 'metric': '2 - 5'}  acur       American Curl   \n",
       "4    {'imperial': '8 - 15', 'metric': '4 - 7'}  asho  American Shorthair   \n",
       "\n",
       "                                             cfa_url  \\\n",
       "0     http://cfa.org/Breeds/BreedsAB/Abyssinian.aspx   \n",
       "1                                                NaN   \n",
       "2  http://cfa.org/Breeds/BreedsAB/AmericanBobtail...   \n",
       "3   http://cfa.org/Breeds/BreedsAB/AmericanCurl.aspx   \n",
       "4  http://cfa.org/Breeds/BreedsAB/AmericanShortha...   \n",
       "\n",
       "                                      vetstreet_url  \\\n",
       "0          http://www.vetstreet.com/cats/abyssinian   \n",
       "1          http://www.vetstreet.com/cats/aegean-cat   \n",
       "2    http://www.vetstreet.com/cats/american-bobtail   \n",
       "3       http://www.vetstreet.com/cats/american-curl   \n",
       "4  http://www.vetstreet.com/cats/american-shorthair   \n",
       "\n",
       "                                    vcahospitals_url  \\\n",
       "0  https://vcahospitals.com/know-your-pet/cat-bre...   \n",
       "1                                                NaN   \n",
       "2  https://vcahospitals.com/know-your-pet/cat-bre...   \n",
       "3  https://vcahospitals.com/know-your-pet/cat-bre...   \n",
       "4  https://vcahospitals.com/know-your-pet/cat-bre...   \n",
       "\n",
       "                                         temperament         origin  \\\n",
       "0  Active, Energetic, Independent, Intelligent, G...          Egypt   \n",
       "1  Affectionate, Social, Intelligent, Playful, Ac...         Greece   \n",
       "2  Intelligent, Interactive, Lively, Playful, Sen...  United States   \n",
       "3  Affectionate, Curious, Intelligent, Interactiv...  United States   \n",
       "4         Active, Curious, Easy Going, Playful, Calm  United States   \n",
       "\n",
       "  country_codes country_code  ... natural rare  rex  suppressed_tail  \\\n",
       "0            EG           EG  ...       1    0    0                0   \n",
       "1            GR           GR  ...       0    0    0                0   \n",
       "2            US           US  ...       0    0    0                1   \n",
       "3            US           US  ...       0    0    0                0   \n",
       "4            US           US  ...       1    0    0                0   \n",
       "\n",
       "  short_legs                                     wikipedia_url  \\\n",
       "0          0    https://en.wikipedia.org/wiki/Abyssinian_(cat)   \n",
       "1          0          https://en.wikipedia.org/wiki/Aegean_cat   \n",
       "2          0    https://en.wikipedia.org/wiki/American_Bobtail   \n",
       "3          0       https://en.wikipedia.org/wiki/American_Curl   \n",
       "4          0  https://en.wikipedia.org/wiki/American_Shorthair   \n",
       "\n",
       "   hypoallergenic  reference_image_id  cat_friendly  bidability  \n",
       "0               0           0XYvRd7oD           NaN         NaN  \n",
       "1               0           ozEvzdVM-           NaN         NaN  \n",
       "2               0           hBXicehMA           NaN         NaN  \n",
       "3               0           xnsqonbjW           NaN         NaN  \n",
       "4               0           JFPROfGtQ           NaN         NaN  \n",
       "\n",
       "[5 rows x 39 columns]"
      ]
     },
     "execution_count": 2,
     "metadata": {},
     "output_type": "execute_result"
    }
   ],
   "source": [
    "import numpy as np\n",
    "import pandas as pd\n",
    "import matplotlib.pyplot as plt\n",
    "import requests\n",
    "from pprint import pprint\n",
    "url = 'https://api.thecatapi.com/v1/breeds'\n",
    "\n",
    "response = requests.get(url)\n",
    "data = response.json()\n",
    "df = pd.DataFrame(data)\n",
    "df.head()\n"
   ]
  },
  {
   "cell_type": "code",
   "execution_count": 3,
   "id": "208ecfb0-fb5a-436b-8977-a04d58769558",
   "metadata": {},
   "outputs": [],
   "source": [
    "weight = df['weight']"
   ]
  },
  {
   "cell_type": "code",
   "execution_count": 12,
   "id": "c6065a2f-4fa5-4727-b5fc-cc5162f15b4c",
   "metadata": {},
   "outputs": [],
   "source": [
    "average_weights = []\n",
    "for item in weight:\n",
    "     lowest, highest = item['metric'].split(' - ')\n",
    "     average = (int(lowest) + int(highest))/2\n",
    "     average_weights.append(average)\n",
    "    "
   ]
  },
  {
   "cell_type": "code",
   "execution_count": 14,
   "id": "f742f853-7a51-4a51-bcf3-bc103273eb81",
   "metadata": {},
   "outputs": [
    {
     "data": {
      "text/plain": [
       "4.708955223880597"
      ]
     },
     "execution_count": 14,
     "metadata": {},
     "output_type": "execute_result"
    }
   ],
   "source": [
    "sum(average_weights) / len(average_weights)"
   ]
  },
  {
   "cell_type": "code",
   "execution_count": null,
   "id": "b8e6e3ff-d321-48d8-b6f9-04967e7d5ef9",
   "metadata": {},
   "outputs": [],
   "source": [
    "\"\"\"\n",
    "\n",
    "# Assignment\n",
    "\n",
    "Find the average weight of a cat\n",
    "Find the average life span of a cat\n",
    "Create a frequency table of cat origin\n",
    "Create a bar graph of cat origin and number of breeds\n",
    "Create a word cloud from cats description\n",
    "\n",
    "\n",
    "\"\"\""
   ]
  },
  {
   "cell_type": "code",
   "execution_count": 36,
   "id": "058c13e0-ad9d-45bf-b913-c5ea4e0a48ac",
   "metadata": {},
   "outputs": [
    {
     "data": {
      "text/plain": [
       "origin\n",
       "Australia                1\n",
       "Burma                    2\n",
       "Canada                   3\n",
       "China                    1\n",
       "Cyprus                   1\n",
       "Egypt                    3\n",
       "France                   2\n",
       "Greece                   1\n",
       "Iran (Persia)            1\n",
       "Isle of Man              1\n",
       "Japan                    1\n",
       "Norway                   1\n",
       "Russia                   4\n",
       "Singapore                1\n",
       "Somalia                  1\n",
       "Thailand                 4\n",
       "Turkey                   2\n",
       "United Arab Emirates     1\n",
       "United Kingdom           8\n",
       "United States           28\n",
       "Name: origin, dtype: int64"
      ]
     },
     "execution_count": 36,
     "metadata": {},
     "output_type": "execute_result"
    }
   ],
   "source": [
    "df.groupby('origin')['origin'].count()"
   ]
  },
  {
   "cell_type": "code",
   "execution_count": 29,
   "id": "5d5392cf-419e-4b55-ac31-137b87905e04",
   "metadata": {},
   "outputs": [
    {
     "name": "stdout",
     "output_type": "stream",
     "text": [
      "['Australia', 'Burma', 'Canada', 'China', 'Cyprus', 'Egypt', 'France', 'Greece', 'Iran (Persia)', 'Isle of Man', 'Japan', 'Norway', 'Russia', 'Singapore', 'Somalia', 'Thailand', 'Turkey', 'United Arab Emirates', 'United Kingdom', 'United States']\n"
     ]
    }
   ],
   "source": [
    "countries = list(df.groupby('origin')['origin'].count().index)\n",
    "print(countries)\n",
    "values =  list(df.groupby('origin')['origin'].count().values)"
   ]
  },
  {
   "cell_type": "code",
   "execution_count": 30,
   "id": "f613ff39-f8c4-48b4-b52c-2c7b534378e5",
   "metadata": {},
   "outputs": [
    {
     "name": "stdout",
     "output_type": "stream",
     "text": [
      "[1, 2, 3, 1, 1, 3, 2, 1, 1, 1, 1, 1, 4, 1, 1, 4, 2, 1, 8, 28]\n"
     ]
    }
   ],
   "source": [
    "print(values)"
   ]
  },
  {
   "cell_type": "code",
   "execution_count": 34,
   "id": "8e1260bf-704b-4dc8-9762-e526924a7fd9",
   "metadata": {},
   "outputs": [
    {
     "data": {
      "text/plain": [
       "([0, 1, 2, 3, 4, 5, 6, 7, 8, 9, 10, 11, 12, 13, 14, 15, 16, 17, 18, 19],\n",
       " [Text(0, 0, 'Australia'),\n",
       "  Text(1, 0, 'Burma'),\n",
       "  Text(2, 0, 'Canada'),\n",
       "  Text(3, 0, 'China'),\n",
       "  Text(4, 0, 'Cyprus'),\n",
       "  Text(5, 0, 'Egypt'),\n",
       "  Text(6, 0, 'France'),\n",
       "  Text(7, 0, 'Greece'),\n",
       "  Text(8, 0, 'Iran (Persia)'),\n",
       "  Text(9, 0, 'Isle of Man'),\n",
       "  Text(10, 0, 'Japan'),\n",
       "  Text(11, 0, 'Norway'),\n",
       "  Text(12, 0, 'Russia'),\n",
       "  Text(13, 0, 'Singapore'),\n",
       "  Text(14, 0, 'Somalia'),\n",
       "  Text(15, 0, 'Thailand'),\n",
       "  Text(16, 0, 'Turkey'),\n",
       "  Text(17, 0, 'United Arab Emirates'),\n",
       "  Text(18, 0, 'United Kingdom'),\n",
       "  Text(19, 0, 'United States')])"
      ]
     },
     "execution_count": 34,
     "metadata": {},
     "output_type": "execute_result"
    },
    {
     "data": {
      "image/png": "[encoded data removed]",
      "text/plain": [
       "<Figure size 640x480 with 1 Axes>"
      ]
     },
     "metadata": {},
     "output_type": "display_data"
    }
   ],
   "source": [
    "plt.bar(countries, values)\n",
    "plt.xticks(rotation=75)"
   ]
  },
  {
   "cell_type": "code",
   "execution_count": null,
   "id": "fa84e125-9c52-4ac3-9934-ac9d7d234c4a",
   "metadata": {},
   "outputs": [],
   "source": []
  }
 ],
 "metadata": {
  "kernelspec": {
   "display_name": "Python 3 (ipykernel)",
   "language": "python",
   "name": "python3"
  },
  "language_info": {
   "codemirror_mode": {
    "name": "ipython",
    "version": 3
   },
   "file_extension": ".py",
   "mimetype": "text/x-python",
   "name": "python",
   "nbconvert_exporter": "python",
   "pygments_lexer": "ipython3",
   "version": "3.12.7"
  }
 },
 "nbformat": 4,
 "nbformat_minor": 5
}
